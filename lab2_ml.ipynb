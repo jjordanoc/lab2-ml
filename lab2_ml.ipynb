{
 "cells": [
  {
   "cell_type": "code",
   "execution_count": 6,
   "metadata": {
    "id": "9sRo8jL3u0wp",
    "ExecuteTime": {
     "end_time": "2023-09-11T18:06:20.436973600Z",
     "start_time": "2023-09-11T18:06:17.593779400Z"
    }
   },
   "outputs": [],
   "source": [
    "import pandas as pd\n",
    "import numpy as np\n",
    "import matplotlib.pyplot as plt\n",
    "from sklearn.linear_model import LogisticRegression\n",
    "from sklearn.model_selection import train_test_split, KFold\n",
    "from joblib import dump, load\n",
    "from sklearn.metrics import accuracy_score, confusion_matrix"
   ]
  },
  {
   "cell_type": "code",
   "execution_count": 7,
   "metadata": {
    "id": "ZN5mSfftvhSI",
    "ExecuteTime": {
     "end_time": "2023-09-11T18:06:23.588814900Z",
     "start_time": "2023-09-11T18:06:22.449347900Z"
    }
   },
   "outputs": [],
   "source": [
    "df = pd.read_csv(\"fashion-mnist_test.csv\")"
   ]
  },
  {
   "cell_type": "code",
   "execution_count": 8,
   "metadata": {
    "colab": {
     "base_uri": "https://localhost:8080/",
     "height": 256
    },
    "id": "-nkrUkLLy8Dk",
    "outputId": "10b46e5f-cc02-4d03-9e29-0bde30cb73ba",
    "ExecuteTime": {
     "end_time": "2023-09-11T18:06:25.002081600Z",
     "start_time": "2023-09-11T18:06:24.945744500Z"
    }
   },
   "outputs": [
    {
     "data": {
      "text/plain": "   label  pixel1  pixel2  pixel3  pixel4  pixel5  pixel6  pixel7  pixel8  \\\n0      0       0       0       0       0       0       0       0       9   \n1      1       0       0       0       0       0       0       0       0   \n2      2       0       0       0       0       0       0      14      53   \n3      2       0       0       0       0       0       0       0       0   \n4      3       0       0       0       0       0       0       0       0   \n\n   pixel9  ...  pixel775  pixel776  pixel777  pixel778  pixel779  pixel780  \\\n0       8  ...       103        87        56         0         0         0   \n1       0  ...        34         0         0         0         0         0   \n2      99  ...         0         0         0         0        63        53   \n3       0  ...       137       126       140         0       133       224   \n4       0  ...         0         0         0         0         0         0   \n\n   pixel781  pixel782  pixel783  pixel784  \n0         0         0         0         0  \n1         0         0         0         0  \n2        31         0         0         0  \n3       222        56         0         0  \n4         0         0         0         0  \n\n[5 rows x 785 columns]",
      "text/html": "<div>\n<style scoped>\n    .dataframe tbody tr th:only-of-type {\n        vertical-align: middle;\n    }\n\n    .dataframe tbody tr th {\n        vertical-align: top;\n    }\n\n    .dataframe thead th {\n        text-align: right;\n    }\n</style>\n<table border=\"1\" class=\"dataframe\">\n  <thead>\n    <tr style=\"text-align: right;\">\n      <th></th>\n      <th>label</th>\n      <th>pixel1</th>\n      <th>pixel2</th>\n      <th>pixel3</th>\n      <th>pixel4</th>\n      <th>pixel5</th>\n      <th>pixel6</th>\n      <th>pixel7</th>\n      <th>pixel8</th>\n      <th>pixel9</th>\n      <th>...</th>\n      <th>pixel775</th>\n      <th>pixel776</th>\n      <th>pixel777</th>\n      <th>pixel778</th>\n      <th>pixel779</th>\n      <th>pixel780</th>\n      <th>pixel781</th>\n      <th>pixel782</th>\n      <th>pixel783</th>\n      <th>pixel784</th>\n    </tr>\n  </thead>\n  <tbody>\n    <tr>\n      <th>0</th>\n      <td>0</td>\n      <td>0</td>\n      <td>0</td>\n      <td>0</td>\n      <td>0</td>\n      <td>0</td>\n      <td>0</td>\n      <td>0</td>\n      <td>9</td>\n      <td>8</td>\n      <td>...</td>\n      <td>103</td>\n      <td>87</td>\n      <td>56</td>\n      <td>0</td>\n      <td>0</td>\n      <td>0</td>\n      <td>0</td>\n      <td>0</td>\n      <td>0</td>\n      <td>0</td>\n    </tr>\n    <tr>\n      <th>1</th>\n      <td>1</td>\n      <td>0</td>\n      <td>0</td>\n      <td>0</td>\n      <td>0</td>\n      <td>0</td>\n      <td>0</td>\n      <td>0</td>\n      <td>0</td>\n      <td>0</td>\n      <td>...</td>\n      <td>34</td>\n      <td>0</td>\n      <td>0</td>\n      <td>0</td>\n      <td>0</td>\n      <td>0</td>\n      <td>0</td>\n      <td>0</td>\n      <td>0</td>\n      <td>0</td>\n    </tr>\n    <tr>\n      <th>2</th>\n      <td>2</td>\n      <td>0</td>\n      <td>0</td>\n      <td>0</td>\n      <td>0</td>\n      <td>0</td>\n      <td>0</td>\n      <td>14</td>\n      <td>53</td>\n      <td>99</td>\n      <td>...</td>\n      <td>0</td>\n      <td>0</td>\n      <td>0</td>\n      <td>0</td>\n      <td>63</td>\n      <td>53</td>\n      <td>31</td>\n      <td>0</td>\n      <td>0</td>\n      <td>0</td>\n    </tr>\n    <tr>\n      <th>3</th>\n      <td>2</td>\n      <td>0</td>\n      <td>0</td>\n      <td>0</td>\n      <td>0</td>\n      <td>0</td>\n      <td>0</td>\n      <td>0</td>\n      <td>0</td>\n      <td>0</td>\n      <td>...</td>\n      <td>137</td>\n      <td>126</td>\n      <td>140</td>\n      <td>0</td>\n      <td>133</td>\n      <td>224</td>\n      <td>222</td>\n      <td>56</td>\n      <td>0</td>\n      <td>0</td>\n    </tr>\n    <tr>\n      <th>4</th>\n      <td>3</td>\n      <td>0</td>\n      <td>0</td>\n      <td>0</td>\n      <td>0</td>\n      <td>0</td>\n      <td>0</td>\n      <td>0</td>\n      <td>0</td>\n      <td>0</td>\n      <td>...</td>\n      <td>0</td>\n      <td>0</td>\n      <td>0</td>\n      <td>0</td>\n      <td>0</td>\n      <td>0</td>\n      <td>0</td>\n      <td>0</td>\n      <td>0</td>\n      <td>0</td>\n    </tr>\n  </tbody>\n</table>\n<p>5 rows × 785 columns</p>\n</div>"
     },
     "execution_count": 8,
     "metadata": {},
     "output_type": "execute_result"
    }
   ],
   "source": [
    "df.head()"
   ]
  },
  {
   "cell_type": "code",
   "execution_count": 5,
   "metadata": {
    "colab": {
     "base_uri": "https://localhost:8080/"
    },
    "id": "RsN1hNx1zuMJ",
    "outputId": "e6d6654b-e75b-489b-d836-150a34631818",
    "ExecuteTime": {
     "end_time": "2023-09-11T18:02:49.316421900Z",
     "start_time": "2023-09-11T18:02:49.304620Z"
    }
   },
   "outputs": [
    {
     "data": {
      "text/plain": "(10000, 785)"
     },
     "execution_count": 5,
     "metadata": {},
     "output_type": "execute_result"
    }
   ],
   "source": [
    "df.shape"
   ]
  },
  {
   "cell_type": "code",
   "execution_count": 9,
   "metadata": {
    "id": "m2KmgVtRu4eP",
    "ExecuteTime": {
     "end_time": "2023-09-11T18:06:29.977212200Z",
     "start_time": "2023-09-11T18:06:29.963788300Z"
    }
   },
   "outputs": [],
   "source": [
    "label_type = {\n",
    "    0: \"T-shirt\",\n",
    "    1: \"Trouser\",\n",
    "    2: \"Pullover\",\n",
    "    3: \"Dress\",\n",
    "    4: \"Coat\",\n",
    "    5: \"Sandal\",\n",
    "    6: \"Shirt\",\n",
    "    7: \"Sneaker\",\n",
    "    8: \"Bag\",\n",
    "    9: \"Ankle boot\"\n",
    "}"
   ]
  },
  {
   "cell_type": "code",
   "execution_count": 12,
   "metadata": {
    "id": "6u3ZY7GSwHU-",
    "ExecuteTime": {
     "end_time": "2023-09-11T18:06:39.315305600Z",
     "start_time": "2023-09-11T18:06:39.299989Z"
    }
   },
   "outputs": [],
   "source": [
    "not_regularized_model = LogisticRegression(solver=\"sag\", penalty=None, max_iter=10000)\n",
    "l2_regularized_model = LogisticRegression(solver=\"sag\", penalty='l2',  max_iter=10000)"
   ]
  },
  {
   "cell_type": "code",
   "execution_count": 11,
   "metadata": {
    "id": "92gBXbf0zVhp",
    "ExecuteTime": {
     "end_time": "2023-09-11T18:06:36.739583Z",
     "start_time": "2023-09-11T18:06:36.673256300Z"
    }
   },
   "outputs": [],
   "source": [
    "X = df[df.columns[1:]]\n",
    "Y = df['label']"
   ]
  },
  {
   "cell_type": "code",
   "execution_count": 13,
   "metadata": {
    "id": "ljqhmMMezacP",
    "ExecuteTime": {
     "end_time": "2023-09-11T18:06:42.106782500Z",
     "start_time": "2023-09-11T18:06:42.084173100Z"
    }
   },
   "outputs": [],
   "source": [
    "def display_data(index: int):\n",
    "    print(\"Actual label:\", label_type[Y.loc[index]])\n",
    "    plt.imshow(X.loc[index].values.reshape(28,28))"
   ]
  },
  {
   "cell_type": "code",
   "execution_count": 14,
   "metadata": {
    "colab": {
     "base_uri": "https://localhost:8080/",
     "height": 448
    },
    "id": "Y0gDbxBl0qZv",
    "outputId": "2cea1733-34b7-4bc6-f395-4e38a253f3df",
    "ExecuteTime": {
     "end_time": "2023-09-11T18:06:44.851038200Z",
     "start_time": "2023-09-11T18:06:44.566289600Z"
    }
   },
   "outputs": [
    {
     "name": "stdout",
     "output_type": "stream",
     "text": [
      "Actual label: Pullover\n"
     ]
    },
    {
     "data": {
      "text/plain": "<Figure size 640x480 with 1 Axes>",
      "image/png": "[encoded data removed]"
     },
     "metadata": {},
     "output_type": "display_data"
    }
   ],
   "source": [
    "display_data(5)"
   ]
  },
  {
   "cell_type": "code",
   "execution_count": 15,
   "outputs": [],
   "source": [
    "X = X / 255."
   ],
   "metadata": {
    "collapsed": false,
    "ExecuteTime": {
     "end_time": "2023-09-11T18:06:54.513072400Z",
     "start_time": "2023-09-11T18:06:54.436844200Z"
    }
   }
  },
  {
   "cell_type": "code",
   "execution_count": 16,
   "outputs": [
    {
     "data": {
      "text/plain": "   pixel1  pixel2  pixel3  pixel4  pixel5  pixel6    pixel7    pixel8  \\\n0     0.0     0.0     0.0     0.0     0.0     0.0  0.000000  0.035294   \n1     0.0     0.0     0.0     0.0     0.0     0.0  0.000000  0.000000   \n2     0.0     0.0     0.0     0.0     0.0     0.0  0.054902  0.207843   \n3     0.0     0.0     0.0     0.0     0.0     0.0  0.000000  0.000000   \n4     0.0     0.0     0.0     0.0     0.0     0.0  0.000000  0.000000   \n\n     pixel9   pixel10  ...  pixel775  pixel776  pixel777  pixel778  pixel779  \\\n0  0.031373  0.000000  ...  0.403922  0.341176  0.219608       0.0  0.000000   \n1  0.000000  0.000000  ...  0.133333  0.000000  0.000000       0.0  0.000000   \n2  0.388235  0.066667  ...  0.000000  0.000000  0.000000       0.0  0.247059   \n3  0.000000  0.631373  ...  0.537255  0.494118  0.549020       0.0  0.521569   \n4  0.000000  0.000000  ...  0.000000  0.000000  0.000000       0.0  0.000000   \n\n   pixel780  pixel781  pixel782  pixel783  pixel784  \n0  0.000000  0.000000  0.000000       0.0       0.0  \n1  0.000000  0.000000  0.000000       0.0       0.0  \n2  0.207843  0.121569  0.000000       0.0       0.0  \n3  0.878431  0.870588  0.219608       0.0       0.0  \n4  0.000000  0.000000  0.000000       0.0       0.0  \n\n[5 rows x 784 columns]",
      "text/html": "<div>\n<style scoped>\n    .dataframe tbody tr th:only-of-type {\n        vertical-align: middle;\n    }\n\n    .dataframe tbody tr th {\n        vertical-align: top;\n    }\n\n    .dataframe thead th {\n        text-align: right;\n    }\n</style>\n<table border=\"1\" class=\"dataframe\">\n  <thead>\n    <tr style=\"text-align: right;\">\n      <th></th>\n      <th>pixel1</th>\n      <th>pixel2</th>\n      <th>pixel3</th>\n      <th>pixel4</th>\n      <th>pixel5</th>\n      <th>pixel6</th>\n      <th>pixel7</th>\n      <th>pixel8</th>\n      <th>pixel9</th>\n      <th>pixel10</th>\n      <th>...</th>\n      <th>pixel775</th>\n      <th>pixel776</th>\n      <th>pixel777</th>\n      <th>pixel778</th>\n      <th>pixel779</th>\n      <th>pixel780</th>\n      <th>pixel781</th>\n      <th>pixel782</th>\n      <th>pixel783</th>\n      <th>pixel784</th>\n    </tr>\n  </thead>\n  <tbody>\n    <tr>\n      <th>0</th>\n      <td>0.0</td>\n      <td>0.0</td>\n      <td>0.0</td>\n      <td>0.0</td>\n      <td>0.0</td>\n      <td>0.0</td>\n      <td>0.000000</td>\n      <td>0.035294</td>\n      <td>0.031373</td>\n      <td>0.000000</td>\n      <td>...</td>\n      <td>0.403922</td>\n      <td>0.341176</td>\n      <td>0.219608</td>\n      <td>0.0</td>\n      <td>0.000000</td>\n      <td>0.000000</td>\n      <td>0.000000</td>\n      <td>0.000000</td>\n      <td>0.0</td>\n      <td>0.0</td>\n    </tr>\n    <tr>\n      <th>1</th>\n      <td>0.0</td>\n      <td>0.0</td>\n      <td>0.0</td>\n      <td>0.0</td>\n      <td>0.0</td>\n      <td>0.0</td>\n      <td>0.000000</td>\n      <td>0.000000</td>\n      <td>0.000000</td>\n      <td>0.000000</td>\n      <td>...</td>\n      <td>0.133333</td>\n      <td>0.000000</td>\n      <td>0.000000</td>\n      <td>0.0</td>\n      <td>0.000000</td>\n      <td>0.000000</td>\n      <td>0.000000</td>\n      <td>0.000000</td>\n      <td>0.0</td>\n      <td>0.0</td>\n    </tr>\n    <tr>\n      <th>2</th>\n      <td>0.0</td>\n      <td>0.0</td>\n      <td>0.0</td>\n      <td>0.0</td>\n      <td>0.0</td>\n      <td>0.0</td>\n      <td>0.054902</td>\n      <td>0.207843</td>\n      <td>0.388235</td>\n      <td>0.066667</td>\n      <td>...</td>\n      <td>0.000000</td>\n      <td>0.000000</td>\n      <td>0.000000</td>\n      <td>0.0</td>\n      <td>0.247059</td>\n      <td>0.207843</td>\n      <td>0.121569</td>\n      <td>0.000000</td>\n      <td>0.0</td>\n      <td>0.0</td>\n    </tr>\n    <tr>\n      <th>3</th>\n      <td>0.0</td>\n      <td>0.0</td>\n      <td>0.0</td>\n      <td>0.0</td>\n      <td>0.0</td>\n      <td>0.0</td>\n      <td>0.000000</td>\n      <td>0.000000</td>\n      <td>0.000000</td>\n      <td>0.631373</td>\n      <td>...</td>\n      <td>0.537255</td>\n      <td>0.494118</td>\n      <td>0.549020</td>\n      <td>0.0</td>\n      <td>0.521569</td>\n      <td>0.878431</td>\n      <td>0.870588</td>\n      <td>0.219608</td>\n      <td>0.0</td>\n      <td>0.0</td>\n    </tr>\n    <tr>\n      <th>4</th>\n      <td>0.0</td>\n      <td>0.0</td>\n      <td>0.0</td>\n      <td>0.0</td>\n      <td>0.0</td>\n      <td>0.0</td>\n      <td>0.000000</td>\n      <td>0.000000</td>\n      <td>0.000000</td>\n      <td>0.000000</td>\n      <td>...</td>\n      <td>0.000000</td>\n      <td>0.000000</td>\n      <td>0.000000</td>\n      <td>0.0</td>\n      <td>0.000000</td>\n      <td>0.000000</td>\n      <td>0.000000</td>\n      <td>0.000000</td>\n      <td>0.0</td>\n      <td>0.0</td>\n    </tr>\n  </tbody>\n</table>\n<p>5 rows × 784 columns</p>\n</div>"
     },
     "execution_count": 16,
     "metadata": {},
     "output_type": "execute_result"
    }
   ],
   "source": [
    "X.head()"
   ],
   "metadata": {
    "collapsed": false,
    "ExecuteTime": {
     "end_time": "2023-09-11T18:06:56.062051500Z",
     "start_time": "2023-09-11T18:06:56.021259Z"
    }
   }
  },
  {
   "cell_type": "code",
   "execution_count": 17,
   "metadata": {
    "id": "0GowESXp1ZAq",
    "ExecuteTime": {
     "end_time": "2023-09-11T18:07:00.014640300Z",
     "start_time": "2023-09-11T18:06:59.930082700Z"
    }
   },
   "outputs": [],
   "source": [
    "X_train, X_validate, Y_train, Y_validate = train_test_split(X, Y, test_size=1000)"
   ]
  },
  {
   "cell_type": "code",
   "execution_count": 18,
   "outputs": [],
   "source": [
    "X_train, X_test, Y_train, Y_test = train_test_split(X_train, Y_train, test_size=1000)"
   ],
   "metadata": {
    "collapsed": false,
    "ExecuteTime": {
     "end_time": "2023-09-11T18:07:01.480042200Z",
     "start_time": "2023-09-11T18:07:01.393405400Z"
    }
   }
  },
  {
   "cell_type": "code",
   "execution_count": 19,
   "metadata": {
    "colab": {
     "base_uri": "https://localhost:8080/"
    },
    "id": "ZC3bkyZk2Mup",
    "outputId": "c2cc8cf0-e9b1-4646-87a4-983750834c57",
    "ExecuteTime": {
     "end_time": "2023-09-11T18:07:03.314639200Z",
     "start_time": "2023-09-11T18:07:03.288995800Z"
    }
   },
   "outputs": [
    {
     "data": {
      "text/plain": "((8000, 784), (8000,))"
     },
     "execution_count": 19,
     "metadata": {},
     "output_type": "execute_result"
    }
   ],
   "source": [
    "X_train.shape, Y_train.shape"
   ]
  },
  {
   "cell_type": "code",
   "execution_count": 20,
   "metadata": {
    "colab": {
     "base_uri": "https://localhost:8080/"
    },
    "id": "OFlLeQCl2QmG",
    "outputId": "f8a61aca-12ca-4c19-b7bc-000234ed3a7e",
    "ExecuteTime": {
     "end_time": "2023-09-11T18:07:05.953341500Z",
     "start_time": "2023-09-11T18:07:05.926695400Z"
    }
   },
   "outputs": [
    {
     "data": {
      "text/plain": "((1000, 784), (1000,))"
     },
     "execution_count": 20,
     "metadata": {},
     "output_type": "execute_result"
    }
   ],
   "source": [
    "X_validate.shape, Y_validate.shape"
   ]
  },
  {
   "cell_type": "code",
   "execution_count": 17,
   "outputs": [
    {
     "data": {
      "text/plain": "((1000, 784), (1000,))"
     },
     "execution_count": 17,
     "metadata": {},
     "output_type": "execute_result"
    }
   ],
   "source": [
    "X_test.shape, Y_test.shape"
   ],
   "metadata": {
    "collapsed": false,
    "ExecuteTime": {
     "end_time": "2023-09-11T18:02:50.499132800Z",
     "start_time": "2023-09-11T18:02:50.352743600Z"
    }
   }
  },
  {
   "cell_type": "code",
   "execution_count": null,
   "outputs": [],
   "source": [
    "not_regularized_estimator = not_regularized_model.fit(X_train, Y_train)"
   ],
   "metadata": {
    "collapsed": false
   }
  },
  {
   "cell_type": "code",
   "execution_count": null,
   "metadata": {
    "colab": {
     "background_save": true
    },
    "id": "K3J4Axq72rUN"
   },
   "outputs": [],
   "source": [
    "dump(not_regularized_estimator, \"not_regularized_estimator_8k.joblib\")"
   ]
  },
  {
   "cell_type": "code",
   "execution_count": 31,
   "outputs": [
    {
     "data": {
      "text/plain": "5"
     },
     "execution_count": 31,
     "metadata": {},
     "output_type": "execute_result"
    }
   ],
   "source": [
    "sample_size = 10\n",
    "\n",
    "Xsample = X[:sample_size]\n",
    "Ysample = Y[:sample_size]\n",
    "\n",
    "kf = KFold(n_splits=5)\n",
    "kf.get_n_splits(Xsample)"
   ],
   "metadata": {
    "collapsed": false,
    "ExecuteTime": {
     "end_time": "2023-09-11T18:17:40.171660100Z",
     "start_time": "2023-09-11T18:17:40.144333300Z"
    }
   }
  },
  {
   "cell_type": "code",
   "execution_count": 32,
   "outputs": [
    {
     "name": "stdout",
     "output_type": "stream",
     "text": [
      "\t Particion # 0\n",
      "Trining index:  [2 3 4 5 6 7 8 9]\n",
      "Test_index splited:  [1]\n",
      "Validation_index splited:  [0]\n",
      "Test index:  [1]\n",
      "\t Particion # 1\n",
      "Trining index:  [0 1 4 5 6 7 8 9]\n",
      "Test_index splited:  [2]\n",
      "Validation_index splited:  [3]\n",
      "Test index:  [2]\n",
      "\t Particion # 2\n",
      "Trining index:  [0 1 2 3 6 7 8 9]\n",
      "Test_index splited:  [4]\n",
      "Validation_index splited:  [5]\n",
      "Test index:  [4]\n",
      "\t Particion # 3\n",
      "Trining index:  [0 1 2 3 4 5 8 9]\n",
      "Test_index splited:  [6]\n",
      "Validation_index splited:  [7]\n",
      "Test index:  [6]\n",
      "\t Particion # 4\n",
      "Trining index:  [0 1 2 3 4 5 6 7]\n",
      "Test_index splited:  [8]\n",
      "Validation_index splited:  [9]\n",
      "Test index:  [8]\n"
     ]
    }
   ],
   "source": [
    "\n",
    "for i, (train_index, test_index) in enumerate(kf.split(Xsample, Ysample)):\n",
    "    print( \"\\t Particion #\", i)\n",
    "\n",
    "    print(\"Trining index: \", train_index)\n",
    "\n",
    "    test_index, validation_index = train_test_split(test_index, test_size=0.5)\n",
    "\n",
    "    print(\"Test_index splited: \", test_index)\n",
    "    print(\"Validation_index splited: \", validation_index)"
   ],
   "metadata": {
    "collapsed": false,
    "ExecuteTime": {
     "end_time": "2023-09-11T18:17:41.641067700Z",
     "start_time": "2023-09-11T18:17:41.604282400Z"
    }
   }
  }
 ],
 "metadata": {
  "colab": {
   "provenance": []
  },
  "kernelspec": {
   "name": "python3",
   "language": "python",
   "display_name": "Python 3 (ipykernel)"
  },
  "language_info": {
   "name": "python"
  }
 },
 "nbformat": 4,
 "nbformat_minor": 0
}
