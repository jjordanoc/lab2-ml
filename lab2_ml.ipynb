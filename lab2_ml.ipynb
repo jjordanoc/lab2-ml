{
 "cells": [
  {
   "cell_type": "code",
   "execution_count": 27,
   "metadata": {
    "id": "9sRo8jL3u0wp",
    "ExecuteTime": {
     "end_time": "2023-09-11T23:33:03.860589200Z",
     "start_time": "2023-09-11T23:33:03.665265100Z"
    }
   },
   "outputs": [],
   "source": [
    "import cudf\n",
    "import numpy as np\n",
    "import matplotlib.pyplot as plt\n",
    "from cuml.linear_model import LogisticRegression\n",
    "from cuml.model_selection import train_test_split\n",
    "import pickle\n",
    "from cuml.metrics import accuracy_score, confusion_matrix\n",
    "from cuml.common.device_selection import get_global_device_type\n",
    "from sklearn.metrics import ConfusionMatrixDisplay"
   ]
  },
  {
   "cell_type": "code",
   "execution_count": 2,
   "metadata": {
    "id": "ZN5mSfftvhSI",
    "ExecuteTime": {
     "end_time": "2023-09-11T23:24:11.644445800Z",
     "start_time": "2023-09-11T23:23:41.016405300Z"
    }
   },
   "outputs": [],
   "source": [
    "df = cudf.read_csv(\"fashion-mnist_test.csv\")"
   ]
  },
  {
   "cell_type": "code",
   "execution_count": 3,
   "metadata": {
    "colab": {
     "base_uri": "https://localhost:8080/",
     "height": 256
    },
    "id": "-nkrUkLLy8Dk",
    "outputId": "10b46e5f-cc02-4d03-9e29-0bde30cb73ba",
    "ExecuteTime": {
     "end_time": "2023-09-11T23:24:15.786266300Z",
     "start_time": "2023-09-11T23:24:15.116746Z"
    }
   },
   "outputs": [
    {
     "data": {
      "text/plain": "   label  pixel1  pixel2  pixel3  pixel4  pixel5  pixel6  pixel7  pixel8  \\\n0      0       0       0       0       0       0       0       0       9   \n1      1       0       0       0       0       0       0       0       0   \n2      2       0       0       0       0       0       0      14      53   \n3      2       0       0       0       0       0       0       0       0   \n4      3       0       0       0       0       0       0       0       0   \n\n   pixel9  ...  pixel775  pixel776  pixel777  pixel778  pixel779  pixel780  \\\n0       8  ...       103        87        56         0         0         0   \n1       0  ...        34         0         0         0         0         0   \n2      99  ...         0         0         0         0        63        53   \n3       0  ...       137       126       140         0       133       224   \n4       0  ...         0         0         0         0         0         0   \n\n   pixel781  pixel782  pixel783  pixel784  \n0         0         0         0         0  \n1         0         0         0         0  \n2        31         0         0         0  \n3       222        56         0         0  \n4         0         0         0         0  \n\n[5 rows x 785 columns]",
      "text/html": "<div>\n<style scoped>\n    .dataframe tbody tr th:only-of-type {\n        vertical-align: middle;\n    }\n\n    .dataframe tbody tr th {\n        vertical-align: top;\n    }\n\n    .dataframe thead th {\n        text-align: right;\n    }\n</style>\n<table border=\"1\" class=\"dataframe\">\n  <thead>\n    <tr style=\"text-align: right;\">\n      <th></th>\n      <th>label</th>\n      <th>pixel1</th>\n      <th>pixel2</th>\n      <th>pixel3</th>\n      <th>pixel4</th>\n      <th>pixel5</th>\n      <th>pixel6</th>\n      <th>pixel7</th>\n      <th>pixel8</th>\n      <th>pixel9</th>\n      <th>...</th>\n      <th>pixel775</th>\n      <th>pixel776</th>\n      <th>pixel777</th>\n      <th>pixel778</th>\n      <th>pixel779</th>\n      <th>pixel780</th>\n      <th>pixel781</th>\n      <th>pixel782</th>\n      <th>pixel783</th>\n      <th>pixel784</th>\n    </tr>\n  </thead>\n  <tbody>\n    <tr>\n      <th>0</th>\n      <td>0</td>\n      <td>0</td>\n      <td>0</td>\n      <td>0</td>\n      <td>0</td>\n      <td>0</td>\n      <td>0</td>\n      <td>0</td>\n      <td>9</td>\n      <td>8</td>\n      <td>...</td>\n      <td>103</td>\n      <td>87</td>\n      <td>56</td>\n      <td>0</td>\n      <td>0</td>\n      <td>0</td>\n      <td>0</td>\n      <td>0</td>\n      <td>0</td>\n      <td>0</td>\n    </tr>\n    <tr>\n      <th>1</th>\n      <td>1</td>\n      <td>0</td>\n      <td>0</td>\n      <td>0</td>\n      <td>0</td>\n      <td>0</td>\n      <td>0</td>\n      <td>0</td>\n      <td>0</td>\n      <td>0</td>\n      <td>...</td>\n      <td>34</td>\n      <td>0</td>\n      <td>0</td>\n      <td>0</td>\n      <td>0</td>\n      <td>0</td>\n      <td>0</td>\n      <td>0</td>\n      <td>0</td>\n      <td>0</td>\n    </tr>\n    <tr>\n      <th>2</th>\n      <td>2</td>\n      <td>0</td>\n      <td>0</td>\n      <td>0</td>\n      <td>0</td>\n      <td>0</td>\n      <td>0</td>\n      <td>14</td>\n      <td>53</td>\n      <td>99</td>\n      <td>...</td>\n      <td>0</td>\n      <td>0</td>\n      <td>0</td>\n      <td>0</td>\n      <td>63</td>\n      <td>53</td>\n      <td>31</td>\n      <td>0</td>\n      <td>0</td>\n      <td>0</td>\n    </tr>\n    <tr>\n      <th>3</th>\n      <td>2</td>\n      <td>0</td>\n      <td>0</td>\n      <td>0</td>\n      <td>0</td>\n      <td>0</td>\n      <td>0</td>\n      <td>0</td>\n      <td>0</td>\n      <td>0</td>\n      <td>...</td>\n      <td>137</td>\n      <td>126</td>\n      <td>140</td>\n      <td>0</td>\n      <td>133</td>\n      <td>224</td>\n      <td>222</td>\n      <td>56</td>\n      <td>0</td>\n      <td>0</td>\n    </tr>\n    <tr>\n      <th>4</th>\n      <td>3</td>\n      <td>0</td>\n      <td>0</td>\n      <td>0</td>\n      <td>0</td>\n      <td>0</td>\n      <td>0</td>\n      <td>0</td>\n      <td>0</td>\n      <td>0</td>\n      <td>...</td>\n      <td>0</td>\n      <td>0</td>\n      <td>0</td>\n      <td>0</td>\n      <td>0</td>\n      <td>0</td>\n      <td>0</td>\n      <td>0</td>\n      <td>0</td>\n      <td>0</td>\n    </tr>\n  </tbody>\n</table>\n<p>5 rows × 785 columns</p>\n</div>"
     },
     "execution_count": 3,
     "metadata": {},
     "output_type": "execute_result"
    }
   ],
   "source": [
    "df.head()"
   ]
  },
  {
   "cell_type": "code",
   "execution_count": 5,
   "metadata": {
    "colab": {
     "base_uri": "https://localhost:8080/"
    },
    "id": "RsN1hNx1zuMJ",
    "outputId": "e6d6654b-e75b-489b-d836-150a34631818",
    "ExecuteTime": {
     "end_time": "2023-09-11T23:24:34.006725Z",
     "start_time": "2023-09-11T23:24:33.975038800Z"
    }
   },
   "outputs": [
    {
     "data": {
      "text/plain": "(10000, 785)"
     },
     "execution_count": 5,
     "metadata": {},
     "output_type": "execute_result"
    }
   ],
   "source": [
    "df.shape"
   ]
  },
  {
   "cell_type": "code",
   "execution_count": 6,
   "metadata": {
    "id": "m2KmgVtRu4eP",
    "ExecuteTime": {
     "end_time": "2023-09-11T23:24:36.056825200Z",
     "start_time": "2023-09-11T23:24:36.039785200Z"
    }
   },
   "outputs": [],
   "source": [
    "label_type = {\n",
    "    0: \"T-shirt\",\n",
    "    1: \"Trouser\",\n",
    "    2: \"Pullover\",\n",
    "    3: \"Dress\",\n",
    "    4: \"Coat\",\n",
    "    5: \"Sandal\",\n",
    "    6: \"Shirt\",\n",
    "    7: \"Sneaker\",\n",
    "    8: \"Bag\",\n",
    "    9: \"Ankle boot\"\n",
    "}"
   ]
  },
  {
   "cell_type": "code",
   "execution_count": 8,
   "metadata": {
    "id": "6u3ZY7GSwHU-",
    "ExecuteTime": {
     "end_time": "2023-09-11T23:24:48.400666500Z",
     "start_time": "2023-09-11T23:24:48.388626700Z"
    }
   },
   "outputs": [],
   "source": [
    "not_regularized_model = LogisticRegression(solver=\"qn\", penalty='none', max_iter=10000)\n",
    "l2_regularized_model = LogisticRegression(solver=\"qn\", penalty='l2',  max_iter=10000)"
   ]
  },
  {
   "cell_type": "code",
   "execution_count": 9,
   "metadata": {
    "id": "92gBXbf0zVhp",
    "ExecuteTime": {
     "end_time": "2023-09-11T23:24:50.290131900Z",
     "start_time": "2023-09-11T23:24:50.267702100Z"
    }
   },
   "outputs": [],
   "source": [
    "X = df[df.columns[1:]]\n",
    "Y = df['label']"
   ]
  },
  {
   "cell_type": "code",
   "execution_count": 14,
   "metadata": {
    "id": "ljqhmMMezacP",
    "ExecuteTime": {
     "end_time": "2023-09-11T23:25:43.679451100Z",
     "start_time": "2023-09-11T23:25:43.652323Z"
    }
   },
   "outputs": [],
   "source": [
    "def display_data(index: int):\n",
    "    print(\"Actual label:\", label_type[Y.loc[index]])\n",
    "    plt.imshow(X.loc[index].values.reshape(28,28).get())"
   ]
  },
  {
   "cell_type": "code",
   "execution_count": 15,
   "metadata": {
    "colab": {
     "base_uri": "https://localhost:8080/",
     "height": 448
    },
    "id": "Y0gDbxBl0qZv",
    "outputId": "2cea1733-34b7-4bc6-f395-4e38a253f3df",
    "ExecuteTime": {
     "end_time": "2023-09-11T23:25:44.511031200Z",
     "start_time": "2023-09-11T23:25:44.099367200Z"
    }
   },
   "outputs": [
    {
     "name": "stdout",
     "output_type": "stream",
     "text": [
      "Actual label: Pullover\n"
     ]
    },
    {
     "data": {
      "text/plain": "<Figure size 640x480 with 1 Axes>",
      "image/png": "[encoded data removed]"
     },
     "metadata": {},
     "output_type": "display_data"
    }
   ],
   "source": [
    "display_data(5)"
   ]
  },
  {
   "cell_type": "code",
   "execution_count": 16,
   "metadata": {
    "collapsed": false,
    "jupyter": {
     "outputs_hidden": false
    },
    "ExecuteTime": {
     "end_time": "2023-09-11T23:25:48.963568200Z",
     "start_time": "2023-09-11T23:25:47.967526900Z"
    }
   },
   "outputs": [],
   "source": [
    "X = X / 255."
   ]
  },
  {
   "cell_type": "code",
   "execution_count": 17,
   "metadata": {
    "collapsed": false,
    "jupyter": {
     "outputs_hidden": false
    },
    "ExecuteTime": {
     "end_time": "2023-09-11T23:25:50.641558400Z",
     "start_time": "2023-09-11T23:25:49.897548800Z"
    }
   },
   "outputs": [
    {
     "data": {
      "text/plain": "   pixel1  pixel2  pixel3  pixel4  pixel5  pixel6    pixel7    pixel8  \\\n0     0.0     0.0     0.0     0.0     0.0     0.0  0.000000  0.035294   \n1     0.0     0.0     0.0     0.0     0.0     0.0  0.000000  0.000000   \n2     0.0     0.0     0.0     0.0     0.0     0.0  0.054902  0.207843   \n3     0.0     0.0     0.0     0.0     0.0     0.0  0.000000  0.000000   \n4     0.0     0.0     0.0     0.0     0.0     0.0  0.000000  0.000000   \n\n     pixel9   pixel10  ...  pixel775  pixel776  pixel777  pixel778  pixel779  \\\n0  0.031373  0.000000  ...  0.403922  0.341176  0.219608       0.0  0.000000   \n1  0.000000  0.000000  ...  0.133333  0.000000  0.000000       0.0  0.000000   \n2  0.388235  0.066667  ...  0.000000  0.000000  0.000000       0.0  0.247059   \n3  0.000000  0.631373  ...  0.537255  0.494118  0.549020       0.0  0.521569   \n4  0.000000  0.000000  ...  0.000000  0.000000  0.000000       0.0  0.000000   \n\n   pixel780  pixel781  pixel782  pixel783  pixel784  \n0  0.000000  0.000000  0.000000       0.0       0.0  \n1  0.000000  0.000000  0.000000       0.0       0.0  \n2  0.207843  0.121569  0.000000       0.0       0.0  \n3  0.878431  0.870588  0.219608       0.0       0.0  \n4  0.000000  0.000000  0.000000       0.0       0.0  \n\n[5 rows x 784 columns]",
      "text/html": "<div>\n<style scoped>\n    .dataframe tbody tr th:only-of-type {\n        vertical-align: middle;\n    }\n\n    .dataframe tbody tr th {\n        vertical-align: top;\n    }\n\n    .dataframe thead th {\n        text-align: right;\n    }\n</style>\n<table border=\"1\" class=\"dataframe\">\n  <thead>\n    <tr style=\"text-align: right;\">\n      <th></th>\n      <th>pixel1</th>\n      <th>pixel2</th>\n      <th>pixel3</th>\n      <th>pixel4</th>\n      <th>pixel5</th>\n      <th>pixel6</th>\n      <th>pixel7</th>\n      <th>pixel8</th>\n      <th>pixel9</th>\n      <th>pixel10</th>\n      <th>...</th>\n      <th>pixel775</th>\n      <th>pixel776</th>\n      <th>pixel777</th>\n      <th>pixel778</th>\n      <th>pixel779</th>\n      <th>pixel780</th>\n      <th>pixel781</th>\n      <th>pixel782</th>\n      <th>pixel783</th>\n      <th>pixel784</th>\n    </tr>\n  </thead>\n  <tbody>\n    <tr>\n      <th>0</th>\n      <td>0.0</td>\n      <td>0.0</td>\n      <td>0.0</td>\n      <td>0.0</td>\n      <td>0.0</td>\n      <td>0.0</td>\n      <td>0.000000</td>\n      <td>0.035294</td>\n      <td>0.031373</td>\n      <td>0.000000</td>\n      <td>...</td>\n      <td>0.403922</td>\n      <td>0.341176</td>\n      <td>0.219608</td>\n      <td>0.0</td>\n      <td>0.000000</td>\n      <td>0.000000</td>\n      <td>0.000000</td>\n      <td>0.000000</td>\n      <td>0.0</td>\n      <td>0.0</td>\n    </tr>\n    <tr>\n      <th>1</th>\n      <td>0.0</td>\n      <td>0.0</td>\n      <td>0.0</td>\n      <td>0.0</td>\n      <td>0.0</td>\n      <td>0.0</td>\n      <td>0.000000</td>\n      <td>0.000000</td>\n      <td>0.000000</td>\n      <td>0.000000</td>\n      <td>...</td>\n      <td>0.133333</td>\n      <td>0.000000</td>\n      <td>0.000000</td>\n      <td>0.0</td>\n      <td>0.000000</td>\n      <td>0.000000</td>\n      <td>0.000000</td>\n      <td>0.000000</td>\n      <td>0.0</td>\n      <td>0.0</td>\n    </tr>\n    <tr>\n      <th>2</th>\n      <td>0.0</td>\n      <td>0.0</td>\n      <td>0.0</td>\n      <td>0.0</td>\n      <td>0.0</td>\n      <td>0.0</td>\n      <td>0.054902</td>\n      <td>0.207843</td>\n      <td>0.388235</td>\n      <td>0.066667</td>\n      <td>...</td>\n      <td>0.000000</td>\n      <td>0.000000</td>\n      <td>0.000000</td>\n      <td>0.0</td>\n      <td>0.247059</td>\n      <td>0.207843</td>\n      <td>0.121569</td>\n      <td>0.000000</td>\n      <td>0.0</td>\n      <td>0.0</td>\n    </tr>\n    <tr>\n      <th>3</th>\n      <td>0.0</td>\n      <td>0.0</td>\n      <td>0.0</td>\n      <td>0.0</td>\n      <td>0.0</td>\n      <td>0.0</td>\n      <td>0.000000</td>\n      <td>0.000000</td>\n      <td>0.000000</td>\n      <td>0.631373</td>\n      <td>...</td>\n      <td>0.537255</td>\n      <td>0.494118</td>\n      <td>0.549020</td>\n      <td>0.0</td>\n      <td>0.521569</td>\n      <td>0.878431</td>\n      <td>0.870588</td>\n      <td>0.219608</td>\n      <td>0.0</td>\n      <td>0.0</td>\n    </tr>\n    <tr>\n      <th>4</th>\n      <td>0.0</td>\n      <td>0.0</td>\n      <td>0.0</td>\n      <td>0.0</td>\n      <td>0.0</td>\n      <td>0.0</td>\n      <td>0.000000</td>\n      <td>0.000000</td>\n      <td>0.000000</td>\n      <td>0.000000</td>\n      <td>...</td>\n      <td>0.000000</td>\n      <td>0.000000</td>\n      <td>0.000000</td>\n      <td>0.0</td>\n      <td>0.000000</td>\n      <td>0.000000</td>\n      <td>0.000000</td>\n      <td>0.000000</td>\n      <td>0.0</td>\n      <td>0.0</td>\n    </tr>\n  </tbody>\n</table>\n<p>5 rows × 784 columns</p>\n</div>"
     },
     "execution_count": 17,
     "metadata": {},
     "output_type": "execute_result"
    }
   ],
   "source": [
    "X.head()"
   ]
  },
  {
   "cell_type": "code",
   "execution_count": 18,
   "metadata": {
    "id": "0GowESXp1ZAq",
    "ExecuteTime": {
     "end_time": "2023-09-11T23:25:55.946770900Z",
     "start_time": "2023-09-11T23:25:55.290256100Z"
    }
   },
   "outputs": [],
   "source": [
    "X_train, X_validate, Y_train, Y_validate = train_test_split(X, Y, test_size=1000)"
   ]
  },
  {
   "cell_type": "code",
   "execution_count": 19,
   "metadata": {
    "collapsed": false,
    "jupyter": {
     "outputs_hidden": false
    },
    "ExecuteTime": {
     "end_time": "2023-09-11T23:25:56.638438500Z",
     "start_time": "2023-09-11T23:25:56.391829300Z"
    }
   },
   "outputs": [],
   "source": [
    "X_train, X_test, Y_train, Y_test = train_test_split(X_train, Y_train, test_size=1000)"
   ]
  },
  {
   "cell_type": "code",
   "execution_count": 20,
   "metadata": {
    "colab": {
     "base_uri": "https://localhost:8080/"
    },
    "id": "ZC3bkyZk2Mup",
    "outputId": "c2cc8cf0-e9b1-4646-87a4-983750834c57",
    "ExecuteTime": {
     "end_time": "2023-09-11T23:25:57.839381500Z",
     "start_time": "2023-09-11T23:25:57.825799300Z"
    }
   },
   "outputs": [
    {
     "data": {
      "text/plain": "((8000, 784), (8000,))"
     },
     "execution_count": 20,
     "metadata": {},
     "output_type": "execute_result"
    }
   ],
   "source": [
    "X_train.shape, Y_train.shape"
   ]
  },
  {
   "cell_type": "code",
   "execution_count": 21,
   "metadata": {
    "colab": {
     "base_uri": "https://localhost:8080/"
    },
    "id": "OFlLeQCl2QmG",
    "outputId": "f8a61aca-12ca-4c19-b7bc-000234ed3a7e",
    "ExecuteTime": {
     "end_time": "2023-09-11T23:26:00.151120400Z",
     "start_time": "2023-09-11T23:26:00.141095400Z"
    }
   },
   "outputs": [
    {
     "data": {
      "text/plain": "((1000, 784), (1000,))"
     },
     "execution_count": 21,
     "metadata": {},
     "output_type": "execute_result"
    }
   ],
   "source": [
    "X_validate.shape, Y_validate.shape"
   ]
  },
  {
   "cell_type": "code",
   "execution_count": 22,
   "metadata": {
    "collapsed": false,
    "jupyter": {
     "outputs_hidden": false
    },
    "ExecuteTime": {
     "end_time": "2023-09-11T23:26:00.854890800Z",
     "start_time": "2023-09-11T23:26:00.829783700Z"
    }
   },
   "outputs": [
    {
     "data": {
      "text/plain": "((1000, 784), (1000,))"
     },
     "execution_count": 22,
     "metadata": {},
     "output_type": "execute_result"
    }
   ],
   "source": [
    "X_test.shape, Y_test.shape"
   ]
  },
  {
   "cell_type": "code",
   "execution_count": 31,
   "metadata": {
    "colab": {
     "background_save": true
    },
    "id": "92ryL7We2WP1",
    "outputId": "24fba7b7-5699-4424-850b-99a50482635f",
    "ExecuteTime": {
     "end_time": "2023-09-11T23:36:33.600446800Z",
     "start_time": "2023-09-11T23:34:48.504432300Z"
    }
   },
   "outputs": [],
   "source": [
    "not_regularized_estimator = not_regularized_model.fit(X_train, Y_train)"
   ]
  },
  {
   "cell_type": "code",
   "execution_count": 32,
   "metadata": {
    "colab": {
     "background_save": true
    },
    "id": "K3J4Axq72rUN",
    "ExecuteTime": {
     "end_time": "2023-09-11T23:38:39.829132600Z",
     "start_time": "2023-09-11T23:38:39.817197400Z"
    }
   },
   "outputs": [],
   "source": [
    "pickle.dump(not_regularized_estimator, open(\"not_regularized_estimator_8k.bin\", \"wb\"))"
   ]
  },
  {
   "cell_type": "code",
   "execution_count": 35,
   "metadata": {
    "collapsed": false,
    "jupyter": {
     "outputs_hidden": false
    },
    "ExecuteTime": {
     "end_time": "2023-09-11T23:42:10.574374800Z",
     "start_time": "2023-09-11T23:42:09.038617300Z"
    }
   },
   "outputs": [
    {
     "data": {
      "text/plain": "<sklearn.metrics._plot.confusion_matrix.ConfusionMatrixDisplay at 0x7f9766981690>"
     },
     "execution_count": 35,
     "metadata": {},
     "output_type": "execute_result"
    },
    {
     "data": {
      "text/plain": "<Figure size 640x480 with 2 Axes>",
      "image/png": "[encoded data removed]"
     },
     "metadata": {},
     "output_type": "display_data"
    }
   ],
   "source": [
    "Y_pred = not_regularized_estimator.predict(X_validate)\n",
    "cm = confusion_matrix(Y_validate, Y_pred).get()\n",
    "cm_display = ConfusionMatrixDisplay(confusion_matrix=cm, display_labels=label_type.keys())\n",
    "cm_display.plot()"
   ]
  },
  {
   "cell_type": "code",
   "execution_count": null,
   "outputs": [],
   "source": [],
   "metadata": {
    "collapsed": false
   }
  }
 ],
 "metadata": {
  "colab": {
   "provenance": []
  },
  "kernelspec": {
   "display_name": "Python 3 (ipykernel)",
   "language": "python",
   "name": "python3"
  },
  "language_info": {
   "codemirror_mode": {
    "name": "ipython",
    "version": 3
   },
   "file_extension": ".py",
   "mimetype": "text/x-python",
   "name": "python",
   "nbconvert_exporter": "python",
   "pygments_lexer": "ipython3",
   "version": "3.10.12"
  }
 },
 "nbformat": 4,
 "nbformat_minor": 4
}
